{
  "cells": [
    {
      "cell_type": "markdown",
      "metadata": {
        "id": "rS2-QbNJGfhe"
      },
      "source": [
        "# <font color='white'>Exercícios em Python: Variáveis, Tipos e Estruturas de Dados </font>\n",
        "### <font color='white'>Exercícios propostos pela Data Science Academy no curso Fundamentos de Linguagem Python para Análise de Dados e Data Science </font>"
      ]
    },
    {
      "cell_type": "code",
      "execution_count": 1,
      "metadata": {
        "colab": {
          "base_uri": "https://localhost:8080/"
        },
        "id": "Sv_PYgv_Gfhh",
        "outputId": "4a0ea20a-9900-407b-f0d4-88715c8b7f49"
      },
      "outputs": [
        {
          "output_type": "stream",
          "name": "stdout",
          "text": [
            "Versão da Linguagem Python: 3.8.10\n"
          ]
        }
      ],
      "source": [
        "# Versão da Linguagem Python\n",
        "from platform import python_version\n",
        "print('Versão da Linguagem Python:', python_version())"
      ]
    },
    {
      "cell_type": "markdown",
      "metadata": {
        "id": "fyioQi4aGfhj"
      },
      "source": [
        "## Exercícios "
      ]
    },
    {
      "cell_type": "code",
      "execution_count": null,
      "metadata": {
        "id": "zsrzEOdnGfhk",
        "outputId": "b579ce88-3cc1-4387-efed-9722ca81370a"
      },
      "outputs": [
        {
          "data": {
            "text/plain": [
              "[1, 2, 3, 4, 5, 6, 7, 8, 9, 10]"
            ]
          },
          "execution_count": 2,
          "metadata": {},
          "output_type": "execute_result"
        }
      ],
      "source": [
        "# Exercício 1 - Imprima na tela os números de 1 a 10. Use uma lista para armazenar os números.\n",
        "list = [1,2,3,4,5,6,7,8,9,10]\n",
        "list"
      ]
    },
    {
      "cell_type": "code",
      "execution_count": null,
      "metadata": {
        "id": "PzC0cO5qGfhm",
        "outputId": "90ae7346-a172-4af2-f6d8-06f89b000f01"
      },
      "outputs": [
        {
          "data": {
            "text/plain": [
              "['a', 1, [1, 2], (1, 2), {'a': 1}]"
            ]
          },
          "execution_count": 3,
          "metadata": {},
          "output_type": "execute_result"
        }
      ],
      "source": [
        "# Exercício 2 - Crie uma lista de 5 objetos e imprima na tela\n",
        "list = ['a', 1, [1,2], (1,2), {'a':1}]\n",
        "list"
      ]
    },
    {
      "cell_type": "code",
      "execution_count": null,
      "metadata": {
        "id": "H_2RJgROGfhn",
        "outputId": "cb681a63-1580-4c7b-cd8f-635e7220d402"
      },
      "outputs": [
        {
          "data": {
            "text/plain": [
              "'Raul Rosa'"
            ]
          },
          "execution_count": 4,
          "metadata": {},
          "output_type": "execute_result"
        }
      ],
      "source": [
        "# Exercício 3 - Crie duas strings e concatene as duas em uma terceira string\n",
        "fistname = 'Raul'\n",
        "lastname = 'Rosa'\n",
        "fullname = fistname + ' ' + lastname\n",
        "fullname"
      ]
    },
    {
      "cell_type": "code",
      "execution_count": null,
      "metadata": {
        "id": "73BQT-fQGfho",
        "outputId": "127d1893-ba14-4515-f4f0-fbf8ab161961"
      },
      "outputs": [
        {
          "data": {
            "text/plain": [
              "tuple"
            ]
          },
          "execution_count": 6,
          "metadata": {},
          "output_type": "execute_result"
        }
      ],
      "source": [
        "# Exercício 4 - Crie uma tupla com os seguintes elementos: 1, 2, 2, 3, 4, 4, 4, 5 e depois utilize a função count do \n",
        "# objeto tupla para verificar quantas vezes o número 4 aparece na tupla\n",
        "tupla = (1, 2, 2, 3, 4, 4, 4, 5)\n",
        "type(tupla)"
      ]
    },
    {
      "cell_type": "code",
      "execution_count": null,
      "metadata": {
        "id": "RyfOWAzuGfho",
        "outputId": "a5a47c83-3192-4f32-ddc0-0c001e8f7e24"
      },
      "outputs": [
        {
          "data": {
            "text/plain": [
              "3"
            ]
          },
          "execution_count": 7,
          "metadata": {},
          "output_type": "execute_result"
        }
      ],
      "source": [
        "tupla.count(4)"
      ]
    },
    {
      "cell_type": "code",
      "execution_count": null,
      "metadata": {
        "id": "pm3xZDROGfhp",
        "outputId": "96d28a2d-fbfa-4e63-98dc-812ea142f6c5"
      },
      "outputs": [
        {
          "data": {
            "text/plain": [
              "{}"
            ]
          },
          "execution_count": 16,
          "metadata": {},
          "output_type": "execute_result"
        }
      ],
      "source": [
        "# Exercício 5 - Crie um dicionário vazio e imprima na tela\n",
        "dict = {}\n",
        "dict"
      ]
    },
    {
      "cell_type": "code",
      "execution_count": null,
      "metadata": {
        "id": "_19r-R9kGfhp",
        "outputId": "aa8a1102-9066-4781-e898-934babddec5c"
      },
      "outputs": [
        {
          "data": {
            "text/plain": [
              "{'a': 1, 'b': 2, 'c': 3}"
            ]
          },
          "execution_count": 17,
          "metadata": {},
          "output_type": "execute_result"
        }
      ],
      "source": [
        "# Exercício 6 - Crie um dicionário com 3 chaves e 3 valores e imprima na tela\n",
        "dict = {'a': 1, 'b':2, 'c': 3}\n",
        "dict"
      ]
    },
    {
      "cell_type": "code",
      "execution_count": null,
      "metadata": {
        "id": "xmlbDQZgGfhq",
        "outputId": "29f9c11b-538e-44d8-d408-c257280873f1"
      },
      "outputs": [
        {
          "data": {
            "text/plain": [
              "{'a': 1, 'b': 2, 'c': 3, 'd': 4}"
            ]
          },
          "execution_count": 10,
          "metadata": {},
          "output_type": "execute_result"
        }
      ],
      "source": [
        "# Exercício 7 - Adicione mais um elemento ao dicionário criado no exercício anterior e imprima na tela\n",
        "dict.update({'d':4})\n",
        "dict"
      ]
    },
    {
      "cell_type": "code",
      "execution_count": null,
      "metadata": {
        "id": "G-S0i3svGfhq",
        "outputId": "0d9350b4-0d7e-4230-bc9f-90d2fe891199"
      },
      "outputs": [
        {
          "data": {
            "text/plain": [
              "{'a': 1, 'b': [1, 2], 'c': 3}"
            ]
          },
          "execution_count": 12,
          "metadata": {},
          "output_type": "execute_result"
        }
      ],
      "source": [
        "# Exercício 8 - Crie um dicionário com 3 chaves e 3 valores. \n",
        "# Um dos valores deve ser uma lista de 2 elementos numéricos. \n",
        "# Imprima o dicionário na tela.\n",
        "dict2 = {'a': 1, 'b':[1, 2], 'c': 3}\n",
        "dict2"
      ]
    },
    {
      "cell_type": "code",
      "execution_count": null,
      "metadata": {
        "id": "Jhpm0TjfGfhr",
        "outputId": "302a7a48-3ad6-4b81-84e6-60b6089fd15d"
      },
      "outputs": [
        {
          "data": {
            "text/plain": [
              "['a', (1, 2), {'a': 1, 'b': 2}, 1.2]"
            ]
          },
          "execution_count": 13,
          "metadata": {},
          "output_type": "execute_result"
        }
      ],
      "source": [
        "# Exercício 9 - Crie uma lista de 4 elementos. O primeiro elemento deve ser uma string, \n",
        "# o segundo uma tupla de 2 elementos, o terceiro um dcionário com 2 chaves e 2 valores e \n",
        "# o quarto elemento um valor do tipo float.\n",
        "# Imprima a lista.\n",
        "list = ['a', (1,2), {'a':1, 'b': 2}, 1.2]\n",
        "list"
      ]
    },
    {
      "cell_type": "code",
      "execution_count": null,
      "metadata": {
        "id": "CI0kH1oaGfhr",
        "outputId": "6c7dc13a-a0c1-48fc-bede-b06d94805b9f"
      },
      "outputs": [
        {
          "data": {
            "text/plain": [
              "'Cientista de Dados'"
            ]
          },
          "execution_count": 18,
          "metadata": {},
          "output_type": "execute_result"
        }
      ],
      "source": [
        "# Exercício 10 - Considere a string abaixo. Imprima na tela apenas os caracteres da posição 1 a 18.\n",
        "frase = 'Cientista de Dados é o profissional mais sexy do século XXI'\n",
        "frase[0:18]"
      ]
    },
    {
      "cell_type": "markdown",
      "metadata": {
        "id": "2zMQVhGqGfhs"
      },
      "source": [
        "## Fim"
      ]
    },
    {
      "cell_type": "markdown",
      "metadata": {
        "id": "hLT35PEqGfhs"
      },
      "source": [
        "### Visite a Data Science Academy - <a href=\"https://www.datascienceacademy.com.br/\">DSA</a>"
      ]
    }
  ],
  "metadata": {
    "kernelspec": {
      "display_name": "Python 3 (ipykernel)",
      "language": "python",
      "name": "python3"
    },
    "language_info": {
      "codemirror_mode": {
        "name": "ipython",
        "version": 3
      },
      "file_extension": ".py",
      "mimetype": "text/x-python",
      "name": "python",
      "nbconvert_exporter": "python",
      "pygments_lexer": "ipython3",
      "version": "3.9.13"
    },
    "colab": {
      "provenance": [],
      "toc_visible": true
    }
  },
  "nbformat": 4,
  "nbformat_minor": 0
}